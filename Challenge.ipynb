{
 "cells": [
  {
   "cell_type": "code",
   "execution_count": 32,
   "metadata": {},
   "outputs": [],
   "source": [
    "import pandas as pd\n",
    "import numpy as np\n",
    "import matplotlib.pyplot as plt\n",
    "from sklearn.manifold import TSNE\n",
    "from sklearn.cluster import DBSCAN\n",
    "from sklearn.neighbors import NearestNeighbors\n",
    "from collections import Counter\n",
    "import geohash\n",
    "import re\n",
    "import requests\n",
    "import gensim.downloader as api\n",
    "import gensim.parsing.preprocessing\n",
    "stop = gensim.parsing.preprocessing.STOPWORDS"
   ]
  },
  {
   "cell_type": "code",
   "execution_count": 38,
   "metadata": {},
   "outputs": [],
   "source": [
    "url = \"https://dh-data-chef-hiring-test.s3.eu-central-1.amazonaws.com/products.gz\"\n",
    "df = pd.read_parquet(url, engine='pyarrow')"
   ]
  },
  {
   "cell_type": "markdown",
   "metadata": {},
   "source": [
    "# Cleaning the Data (20 minutes)"
   ]
  },
  {
   "cell_type": "markdown",
   "metadata": {},
   "source": [
    "## Cleaning the Data"
   ]
  },
  {
   "cell_type": "markdown",
   "metadata": {},
   "source": [
    "First, I'll perform the \"data cleanup: all non English and invalid items should be cleaned up\"."
   ]
  },
  {
   "cell_type": "code",
   "execution_count": 39,
   "metadata": {},
   "outputs": [
    {
     "name": "stdout",
     "output_type": "stream",
     "text": [
      "(300774, 6)\n"
     ]
    },
    {
     "data": {
      "text/html": [
       "<div>\n",
       "<style scoped>\n",
       "    .dataframe tbody tr th:only-of-type {\n",
       "        vertical-align: middle;\n",
       "    }\n",
       "\n",
       "    .dataframe tbody tr th {\n",
       "        vertical-align: top;\n",
       "    }\n",
       "\n",
       "    .dataframe thead th {\n",
       "        text-align: right;\n",
       "    }\n",
       "</style>\n",
       "<table border=\"1\" class=\"dataframe\">\n",
       "  <thead>\n",
       "    <tr style=\"text-align: right;\">\n",
       "      <th></th>\n",
       "      <th>product_id</th>\n",
       "      <th>vendor_id</th>\n",
       "      <th>vendor_geohash</th>\n",
       "      <th>product_name</th>\n",
       "      <th>product_description</th>\n",
       "      <th>order_count</th>\n",
       "    </tr>\n",
       "  </thead>\n",
       "  <tbody>\n",
       "    <tr>\n",
       "      <th>0</th>\n",
       "      <td>0</td>\n",
       "      <td>0</td>\n",
       "      <td>w21zv3v</td>\n",
       "      <td>Double Boiled Soup, Rice &amp; 3 Dishes</td>\n",
       "      <td>Vegetarian</td>\n",
       "      <td>38</td>\n",
       "    </tr>\n",
       "    <tr>\n",
       "      <th>1</th>\n",
       "      <td>1</td>\n",
       "      <td>1</td>\n",
       "      <td>w21ztnr</td>\n",
       "      <td>Goreng Pisang</td>\n",
       "      <td>5 Pcs</td>\n",
       "      <td>26</td>\n",
       "    </tr>\n",
       "    <tr>\n",
       "      <th>2</th>\n",
       "      <td>2</td>\n",
       "      <td>2</td>\n",
       "      <td>w21ztje</td>\n",
       "      <td>Chicken Ham Sub</td>\n",
       "      <td>Lean and tender sliced chicken ham with your c...</td>\n",
       "      <td>31</td>\n",
       "    </tr>\n",
       "    <tr>\n",
       "      <th>3</th>\n",
       "      <td>3</td>\n",
       "      <td>3</td>\n",
       "      <td>w21zunx</td>\n",
       "      <td>Instant Noodles 快熟面</td>\n",
       "      <td>Per pc</td>\n",
       "      <td>88</td>\n",
       "    </tr>\n",
       "    <tr>\n",
       "      <th>4</th>\n",
       "      <td>4</td>\n",
       "      <td>4</td>\n",
       "      <td>w21zety</td>\n",
       "      <td>Mini Yolky Custard Pau</td>\n",
       "      <td>3 Pc</td>\n",
       "      <td>62</td>\n",
       "    </tr>\n",
       "  </tbody>\n",
       "</table>\n",
       "</div>"
      ],
      "text/plain": [
       "   product_id  vendor_id vendor_geohash                         product_name  \\\n",
       "0           0          0        w21zv3v  Double Boiled Soup, Rice & 3 Dishes   \n",
       "1           1          1        w21ztnr                        Goreng Pisang   \n",
       "2           2          2        w21ztje                      Chicken Ham Sub   \n",
       "3           3          3        w21zunx                  Instant Noodles 快熟面   \n",
       "4           4          4        w21zety               Mini Yolky Custard Pau   \n",
       "\n",
       "                                 product_description  order_count  \n",
       "0                                         Vegetarian           38  \n",
       "1                                              5 Pcs           26  \n",
       "2  Lean and tender sliced chicken ham with your c...           31  \n",
       "3                                             Per pc           88  \n",
       "4                                               3 Pc           62  "
      ]
     },
     "execution_count": 39,
     "metadata": {},
     "output_type": "execute_result"
    }
   ],
   "source": [
    "print(df.shape)\n",
    "df.head()"
   ]
  },
  {
   "cell_type": "markdown",
   "metadata": {},
   "source": [
    "From panning through the data, a few notes:\n",
    "\n",
    "* Remove all non-English words\n",
    "* Some `product_name`s and `product_description`s contain numbers. Some of these numbers are valuable information (e.g. '5oz', or '3 pcs'), and some are just menu enumerations at the beginning of the string (e.g. '735. Mushroom Soup' or  'V3. Chicken Organ Set'). I think it could be important to leave that stuff in for now, just because I can imagine some of the input being something like \"Chicken Sandwich. With fries\", and so some scheme of eliminating text before a period would be bad. If/when I get to some text processing and clustering of vendors, I'll circle back.\n",
    "\n",
    "I wonder if the geohashes are all legal..."
   ]
  },
  {
   "cell_type": "code",
   "execution_count": 40,
   "metadata": {},
   "outputs": [
    {
     "data": {
      "text/plain": [
       "0    (1.3726043701171875, 103.94920349121094)\n",
       "1    (1.3533782958984375, 103.94096374511719)\n",
       "2    (1.3492584228515625, 103.93547058105469)\n",
       "3    (1.3986968994140625, 103.89701843261719)\n",
       "4    (1.3506317138671875, 103.87367248535156)\n",
       "Name: vendor_geohash, dtype: object"
      ]
     },
     "execution_count": 40,
     "metadata": {},
     "output_type": "execute_result"
    }
   ],
   "source": [
    "geohashes_transformed = df['vendor_geohash'].apply(lambda x: geohash.decode(x))\n",
    "geohashes_transformed.head()"
   ]
  },
  {
   "cell_type": "markdown",
   "metadata": {},
   "source": [
    "So the geohashes are all legal, without diving through it more to see if anything's been somehow messed up. I wonder if there are any NaNs anywhere?"
   ]
  },
  {
   "cell_type": "code",
   "execution_count": 41,
   "metadata": {},
   "outputs": [
    {
     "data": {
      "text/html": [
       "<div>\n",
       "<style scoped>\n",
       "    .dataframe tbody tr th:only-of-type {\n",
       "        vertical-align: middle;\n",
       "    }\n",
       "\n",
       "    .dataframe tbody tr th {\n",
       "        vertical-align: top;\n",
       "    }\n",
       "\n",
       "    .dataframe thead th {\n",
       "        text-align: right;\n",
       "    }\n",
       "</style>\n",
       "<table border=\"1\" class=\"dataframe\">\n",
       "  <thead>\n",
       "    <tr style=\"text-align: right;\">\n",
       "      <th></th>\n",
       "      <th>product_id</th>\n",
       "      <th>vendor_id</th>\n",
       "      <th>vendor_geohash</th>\n",
       "      <th>product_name</th>\n",
       "      <th>product_description</th>\n",
       "      <th>order_count</th>\n",
       "    </tr>\n",
       "  </thead>\n",
       "  <tbody>\n",
       "    <tr>\n",
       "      <th>count</th>\n",
       "      <td>300774</td>\n",
       "      <td>300774</td>\n",
       "      <td>300774</td>\n",
       "      <td>300774</td>\n",
       "      <td>300774</td>\n",
       "      <td>300774</td>\n",
       "    </tr>\n",
       "    <tr>\n",
       "      <th>unique</th>\n",
       "      <td>1</td>\n",
       "      <td>1</td>\n",
       "      <td>1</td>\n",
       "      <td>1</td>\n",
       "      <td>2</td>\n",
       "      <td>1</td>\n",
       "    </tr>\n",
       "    <tr>\n",
       "      <th>top</th>\n",
       "      <td>False</td>\n",
       "      <td>False</td>\n",
       "      <td>False</td>\n",
       "      <td>False</td>\n",
       "      <td>True</td>\n",
       "      <td>False</td>\n",
       "    </tr>\n",
       "    <tr>\n",
       "      <th>freq</th>\n",
       "      <td>300774</td>\n",
       "      <td>300774</td>\n",
       "      <td>300774</td>\n",
       "      <td>300774</td>\n",
       "      <td>184250</td>\n",
       "      <td>300774</td>\n",
       "    </tr>\n",
       "  </tbody>\n",
       "</table>\n",
       "</div>"
      ],
      "text/plain": [
       "       product_id vendor_id vendor_geohash product_name product_description  \\\n",
       "count      300774    300774         300774       300774              300774   \n",
       "unique          1         1              1            1                   2   \n",
       "top         False     False          False        False                True   \n",
       "freq       300774    300774         300774       300774              184250   \n",
       "\n",
       "       order_count  \n",
       "count       300774  \n",
       "unique           1  \n",
       "top          False  \n",
       "freq        300774  "
      ]
     },
     "execution_count": 41,
     "metadata": {},
     "output_type": "execute_result"
    }
   ],
   "source": [
    "df.isna().describe()"
   ]
  },
  {
   "cell_type": "markdown",
   "metadata": {},
   "source": [
    "The only column with NaNs is `product_description`. That's pleasant; nothing needs to be done here besides replacing the NaNs with an empty string."
   ]
  },
  {
   "cell_type": "code",
   "execution_count": 42,
   "metadata": {},
   "outputs": [],
   "source": [
    "df['product_description'] = df['product_description'].fillna(' ')"
   ]
  },
  {
   "cell_type": "markdown",
   "metadata": {},
   "source": [
    "There's nothing else to clean for now. It's just the non-English text that needs to be removed. I can do that with some regex."
   ]
  },
  {
   "cell_type": "code",
   "execution_count": 43,
   "metadata": {},
   "outputs": [
    {
     "data": {
      "text/html": [
       "<div>\n",
       "<style scoped>\n",
       "    .dataframe tbody tr th:only-of-type {\n",
       "        vertical-align: middle;\n",
       "    }\n",
       "\n",
       "    .dataframe tbody tr th {\n",
       "        vertical-align: top;\n",
       "    }\n",
       "\n",
       "    .dataframe thead th {\n",
       "        text-align: right;\n",
       "    }\n",
       "</style>\n",
       "<table border=\"1\" class=\"dataframe\">\n",
       "  <thead>\n",
       "    <tr style=\"text-align: right;\">\n",
       "      <th></th>\n",
       "      <th>product_id</th>\n",
       "      <th>vendor_id</th>\n",
       "      <th>vendor_geohash</th>\n",
       "      <th>product_name</th>\n",
       "      <th>product_description</th>\n",
       "      <th>order_count</th>\n",
       "    </tr>\n",
       "  </thead>\n",
       "  <tbody>\n",
       "    <tr>\n",
       "      <th>0</th>\n",
       "      <td>0</td>\n",
       "      <td>0</td>\n",
       "      <td>w21zv3v</td>\n",
       "      <td>Double Boiled Soup, Rice &amp; 3 Dishes</td>\n",
       "      <td>Vegetarian</td>\n",
       "      <td>38</td>\n",
       "    </tr>\n",
       "    <tr>\n",
       "      <th>1</th>\n",
       "      <td>1</td>\n",
       "      <td>1</td>\n",
       "      <td>w21ztnr</td>\n",
       "      <td>Goreng Pisang</td>\n",
       "      <td>5 Pcs</td>\n",
       "      <td>26</td>\n",
       "    </tr>\n",
       "    <tr>\n",
       "      <th>2</th>\n",
       "      <td>2</td>\n",
       "      <td>2</td>\n",
       "      <td>w21ztje</td>\n",
       "      <td>Chicken Ham Sub</td>\n",
       "      <td>Lean and tender sliced chicken ham with your c...</td>\n",
       "      <td>31</td>\n",
       "    </tr>\n",
       "    <tr>\n",
       "      <th>3</th>\n",
       "      <td>3</td>\n",
       "      <td>3</td>\n",
       "      <td>w21zunx</td>\n",
       "      <td>Instant Noodles</td>\n",
       "      <td>Per pc</td>\n",
       "      <td>88</td>\n",
       "    </tr>\n",
       "    <tr>\n",
       "      <th>4</th>\n",
       "      <td>4</td>\n",
       "      <td>4</td>\n",
       "      <td>w21zety</td>\n",
       "      <td>Mini Yolky Custard Pau</td>\n",
       "      <td>3 Pc</td>\n",
       "      <td>62</td>\n",
       "    </tr>\n",
       "  </tbody>\n",
       "</table>\n",
       "</div>"
      ],
      "text/plain": [
       "   product_id  vendor_id vendor_geohash                         product_name  \\\n",
       "0           0          0        w21zv3v  Double Boiled Soup, Rice & 3 Dishes   \n",
       "1           1          1        w21ztnr                        Goreng Pisang   \n",
       "2           2          2        w21ztje                      Chicken Ham Sub   \n",
       "3           3          3        w21zunx                  Instant Noodles       \n",
       "4           4          4        w21zety               Mini Yolky Custard Pau   \n",
       "\n",
       "                                 product_description  order_count  \n",
       "0                                         Vegetarian           38  \n",
       "1                                              5 Pcs           26  \n",
       "2  Lean and tender sliced chicken ham with your c...           31  \n",
       "3                                             Per pc           88  \n",
       "4                                               3 Pc           62  "
      ]
     },
     "execution_count": 43,
     "metadata": {},
     "output_type": "execute_result"
    }
   ],
   "source": [
    "def text_cleaner(text):\n",
    "    if not text:\n",
    "        return text\n",
    "    return re.sub(r'([^\\x00-\\x7A])+',' ', text)\n",
    "df['product_description'] = df['product_description'].str.replace(r'[^\\x00-\\x7f]',' ')#apply(lambda x: text_cleaner(x))\n",
    "df['product_name'] = df['product_name'].str.replace(r'[^\\x00-\\x7f]',' ')#.apply(lambda x: text_cleaner(x))\n",
    "df.head()"
   ]
  },
  {
   "cell_type": "markdown",
   "metadata": {},
   "source": [
    "Nice. Moving on to data exploration."
   ]
  },
  {
   "cell_type": "markdown",
   "metadata": {},
   "source": [
    "# Exploring the Data (90 minutes)"
   ]
  },
  {
   "cell_type": "markdown",
   "metadata": {},
   "source": [
    "## Preliminary Statistics"
   ]
  },
  {
   "cell_type": "code",
   "execution_count": 44,
   "metadata": {},
   "outputs": [
    {
     "data": {
      "text/html": [
       "<div>\n",
       "<style scoped>\n",
       "    .dataframe tbody tr th:only-of-type {\n",
       "        vertical-align: middle;\n",
       "    }\n",
       "\n",
       "    .dataframe tbody tr th {\n",
       "        vertical-align: top;\n",
       "    }\n",
       "\n",
       "    .dataframe thead th {\n",
       "        text-align: right;\n",
       "    }\n",
       "</style>\n",
       "<table border=\"1\" class=\"dataframe\">\n",
       "  <thead>\n",
       "    <tr style=\"text-align: right;\">\n",
       "      <th></th>\n",
       "      <th>product_id</th>\n",
       "      <th>vendor_id</th>\n",
       "      <th>vendor_geohash</th>\n",
       "      <th>product_name</th>\n",
       "      <th>product_description</th>\n",
       "      <th>order_count</th>\n",
       "    </tr>\n",
       "  </thead>\n",
       "  <tbody>\n",
       "    <tr>\n",
       "      <th>count</th>\n",
       "      <td>300774.00000</td>\n",
       "      <td>300774.000000</td>\n",
       "      <td>300774</td>\n",
       "      <td>300774</td>\n",
       "      <td>300774</td>\n",
       "      <td>300774.000000</td>\n",
       "    </tr>\n",
       "    <tr>\n",
       "      <th>unique</th>\n",
       "      <td>NaN</td>\n",
       "      <td>NaN</td>\n",
       "      <td>2068</td>\n",
       "      <td>104759</td>\n",
       "      <td>33636</td>\n",
       "      <td>NaN</td>\n",
       "    </tr>\n",
       "    <tr>\n",
       "      <th>top</th>\n",
       "      <td>NaN</td>\n",
       "      <td>NaN</td>\n",
       "      <td>w21zetv</td>\n",
       "      <td>Coke</td>\n",
       "      <td></td>\n",
       "      <td>NaN</td>\n",
       "    </tr>\n",
       "    <tr>\n",
       "      <th>freq</th>\n",
       "      <td>NaN</td>\n",
       "      <td>NaN</td>\n",
       "      <td>2921</td>\n",
       "      <td>739</td>\n",
       "      <td>184252</td>\n",
       "      <td>NaN</td>\n",
       "    </tr>\n",
       "    <tr>\n",
       "      <th>mean</th>\n",
       "      <td>150386.50000</td>\n",
       "      <td>2890.920528</td>\n",
       "      <td>NaN</td>\n",
       "      <td>NaN</td>\n",
       "      <td>NaN</td>\n",
       "      <td>9.215780</td>\n",
       "    </tr>\n",
       "    <tr>\n",
       "      <th>std</th>\n",
       "      <td>86826.11927</td>\n",
       "      <td>2012.265241</td>\n",
       "      <td>NaN</td>\n",
       "      <td>NaN</td>\n",
       "      <td>NaN</td>\n",
       "      <td>23.479511</td>\n",
       "    </tr>\n",
       "    <tr>\n",
       "      <th>min</th>\n",
       "      <td>0.00000</td>\n",
       "      <td>0.000000</td>\n",
       "      <td>NaN</td>\n",
       "      <td>NaN</td>\n",
       "      <td>NaN</td>\n",
       "      <td>1.000000</td>\n",
       "    </tr>\n",
       "    <tr>\n",
       "      <th>25%</th>\n",
       "      <td>75193.25000</td>\n",
       "      <td>1167.000000</td>\n",
       "      <td>NaN</td>\n",
       "      <td>NaN</td>\n",
       "      <td>NaN</td>\n",
       "      <td>1.000000</td>\n",
       "    </tr>\n",
       "    <tr>\n",
       "      <th>50%</th>\n",
       "      <td>150386.50000</td>\n",
       "      <td>2590.000000</td>\n",
       "      <td>NaN</td>\n",
       "      <td>NaN</td>\n",
       "      <td>NaN</td>\n",
       "      <td>3.000000</td>\n",
       "    </tr>\n",
       "    <tr>\n",
       "      <th>75%</th>\n",
       "      <td>225579.75000</td>\n",
       "      <td>4358.000000</td>\n",
       "      <td>NaN</td>\n",
       "      <td>NaN</td>\n",
       "      <td>NaN</td>\n",
       "      <td>8.000000</td>\n",
       "    </tr>\n",
       "    <tr>\n",
       "      <th>max</th>\n",
       "      <td>300773.00000</td>\n",
       "      <td>8172.000000</td>\n",
       "      <td>NaN</td>\n",
       "      <td>NaN</td>\n",
       "      <td>NaN</td>\n",
       "      <td>2017.000000</td>\n",
       "    </tr>\n",
       "  </tbody>\n",
       "</table>\n",
       "</div>"
      ],
      "text/plain": [
       "          product_id      vendor_id vendor_geohash product_name  \\\n",
       "count   300774.00000  300774.000000         300774       300774   \n",
       "unique           NaN            NaN           2068       104759   \n",
       "top              NaN            NaN        w21zetv         Coke   \n",
       "freq             NaN            NaN           2921          739   \n",
       "mean    150386.50000    2890.920528            NaN          NaN   \n",
       "std      86826.11927    2012.265241            NaN          NaN   \n",
       "min          0.00000       0.000000            NaN          NaN   \n",
       "25%      75193.25000    1167.000000            NaN          NaN   \n",
       "50%     150386.50000    2590.000000            NaN          NaN   \n",
       "75%     225579.75000    4358.000000            NaN          NaN   \n",
       "max     300773.00000    8172.000000            NaN          NaN   \n",
       "\n",
       "       product_description    order_count  \n",
       "count               300774  300774.000000  \n",
       "unique               33636            NaN  \n",
       "top                                   NaN  \n",
       "freq                184252            NaN  \n",
       "mean                   NaN       9.215780  \n",
       "std                    NaN      23.479511  \n",
       "min                    NaN       1.000000  \n",
       "25%                    NaN       1.000000  \n",
       "50%                    NaN       3.000000  \n",
       "75%                    NaN       8.000000  \n",
       "max                    NaN    2017.000000  "
      ]
     },
     "execution_count": 44,
     "metadata": {},
     "output_type": "execute_result"
    }
   ],
   "source": [
    "df.describe(include='all')"
   ]
  },
  {
   "cell_type": "code",
   "execution_count": 45,
   "metadata": {},
   "outputs": [
    {
     "data": {
      "text/plain": [
       "product_id             300774\n",
       "vendor_id                8173\n",
       "vendor_geohash           2068\n",
       "product_name           104759\n",
       "product_description     33636\n",
       "order_count               470\n",
       "dtype: int64"
      ]
     },
     "execution_count": 45,
     "metadata": {},
     "output_type": "execute_result"
    }
   ],
   "source": [
    "df.nunique()"
   ]
  },
  {
   "cell_type": "markdown",
   "metadata": {},
   "source": [
    "This is interesting:\n",
    "* The number of unique order_counts is 470, with the max being 2017. That probably is some exponential like thing, especially looking at the `.describe()` call (focused in on in the cell just below).\n",
    "* There are 300774 unique `product_id`s in the data, as many as there are data points (i.e. it's a key), but there are only 105780 unique `product_name`s... what's up with that?\n",
    "* There are 8173 `vendor_id`s. That seems manageable."
   ]
  },
  {
   "cell_type": "code",
   "execution_count": 46,
   "metadata": {},
   "outputs": [
    {
     "data": {
      "text/plain": [
       "count    300774.000000\n",
       "mean          9.215780\n",
       "std          23.479511\n",
       "min           1.000000\n",
       "25%           1.000000\n",
       "50%           3.000000\n",
       "75%           8.000000\n",
       "max        2017.000000\n",
       "Name: order_count, dtype: float64"
      ]
     },
     "execution_count": 46,
     "metadata": {},
     "output_type": "execute_result"
    }
   ],
   "source": [
    "df.order_count.describe()"
   ]
  },
  {
   "cell_type": "markdown",
   "metadata": {},
   "source": [
    "## Understanding Distributions over Different Columns"
   ]
  },
  {
   "cell_type": "markdown",
   "metadata": {},
   "source": [
    "### CDF of `product_id`s by `order_count`s"
   ]
  },
  {
   "cell_type": "markdown",
   "metadata": {},
   "source": [
    "It may not be extremely relevant, necessarily, but I just want to see the distribution over `order_count`s. I anticipate an exponential distribution of sorts (i.e. the majority of products have just one order, and the minority of products have a lot). I particularly want to show it because it's possibly multi-modal in some way, due to different types of products, i.e. appetizer vs main course vs dessert vs drink."
   ]
  },
  {
   "cell_type": "code",
   "execution_count": 47,
   "metadata": {},
   "outputs": [
    {
     "data": {
      "text/plain": [
       "Text(0, 0.5, 'CDF of Orders')"
      ]
     },
     "execution_count": 47,
     "metadata": {},
     "output_type": "execute_result"
    },
    {
     "data": {
      "image/png": "[encoded data removed]",
      "text/plain": [
       "<Figure size 432x288 with 1 Axes>"
      ]
     },
     "metadata": {
      "needs_background": "light"
     },
     "output_type": "display_data"
    }
   ],
   "source": [
    "value_counts = Counter(df.order_count)\n",
    "x, dist = zip(*[(i, value_counts[i]) for i in range(1, max(value_counts)+1)])\n",
    "x = np.array(x)\n",
    "dist = np.array(dist)\n",
    "cdf = np.cumsum(dist)/len(df)\n",
    "plt.plot(x, cdf)\n",
    "plt.xlabel('Order Count')\n",
    "plt.ylabel('CDF of Orders')"
   ]
  },
  {
   "cell_type": "code",
   "execution_count": 48,
   "metadata": {},
   "outputs": [
    {
     "data": {
      "text/plain": [
       "34"
      ]
     },
     "execution_count": 48,
     "metadata": {},
     "output_type": "execute_result"
    }
   ],
   "source": [
    "x[np.argmin(abs(cdf - .95))]"
   ]
  },
  {
   "cell_type": "markdown",
   "metadata": {},
   "source": [
    "Wow, so 90% of the products have less than 34 orders over the whole 30 day period! Could a reasonable solution be to just look at the products in the top 5-10% and recommend them to everyone?"
   ]
  },
  {
   "cell_type": "markdown",
   "metadata": {},
   "source": [
    "### CDF of vendors by total order_count by each vendor"
   ]
  },
  {
   "cell_type": "markdown",
   "metadata": {},
   "source": [
    "Let's take a look at the distribution over number of total product sold by each vendor. This is useful to know because it'll color our product recommendation strategy a little bit, as total order volume is an important characteristic about a restaurant, and it'd be nice if the product recommendations can be targeted."
   ]
  },
  {
   "cell_type": "code",
   "execution_count": 49,
   "metadata": {},
   "outputs": [
    {
     "data": {
      "text/plain": [
       "Text(0, 0.5, 'CDF of Vendors with that total order count')"
      ]
     },
     "execution_count": 49,
     "metadata": {},
     "output_type": "execute_result"
    },
    {
     "data": {
      "image/png": "[encoded data removed]",
      "text/plain": [
       "<Figure size 432x288 with 1 Axes>"
      ]
     },
     "metadata": {
      "needs_background": "light"
     },
     "output_type": "display_data"
    }
   ],
   "source": [
    "vendor_by_total_order_count = df[['vendor_id', 'order_count']].groupby('vendor_id').sum()\n",
    "total_order_count_values = vendor_by_total_order_count['order_count'].value_counts().to_dict()\n",
    "x, dist = [0]*(max(total_order_count_values)+1), [0]*(max(total_order_count_values)+1)\n",
    "for i in range(1, max(total_order_count_values)+1):\n",
    "    x[i] = i\n",
    "    if i in total_order_count_values:\n",
    "        dist[i] = total_order_count_values[i]\n",
    "x = np.array(x)\n",
    "dist = np.array(dist)\n",
    "cdf = np.cumsum(dist)/sum(dist)\n",
    "plt.plot(x, cdf)\n",
    "plt.xlabel('Order Count')\n",
    "plt.ylabel('CDF of Vendors with that total order count')"
   ]
  },
  {
   "cell_type": "markdown",
   "metadata": {},
   "source": [
    "This looks pretty power-law-like again."
   ]
  },
  {
   "cell_type": "code",
   "execution_count": 50,
   "metadata": {},
   "outputs": [
    {
     "data": {
      "text/plain": [
       "25"
      ]
     },
     "execution_count": 50,
     "metadata": {},
     "output_type": "execute_result"
    }
   ],
   "source": [
    "x[np.argmin(abs(cdf - .25))]"
   ]
  },
  {
   "cell_type": "markdown",
   "metadata": {},
   "source": [
    "So, 25% of the vendors in the dataset had less than or equal to 25 orders in the past 30 days. That's not so bad, I think this will be alright to work with."
   ]
  },
  {
   "cell_type": "markdown",
   "metadata": {},
   "source": [
    "### CDF of vendors by total product_count by each vendor"
   ]
  },
  {
   "cell_type": "markdown",
   "metadata": {},
   "source": [
    "This will likely look similar to the plot of \"CDF of vendors by total order_count by each vendor\"."
   ]
  },
  {
   "cell_type": "code",
   "execution_count": 51,
   "metadata": {},
   "outputs": [
    {
     "data": {
      "text/plain": [
       "Text(0, 0.5, 'CDF of Vendors with that Number of Products')"
      ]
     },
     "execution_count": 51,
     "metadata": {},
     "output_type": "execute_result"
    },
    {
     "data": {
      "image/png": "[encoded data removed]",
      "text/plain": [
       "<Figure size 432x288 with 1 Axes>"
      ]
     },
     "metadata": {
      "needs_background": "light"
     },
     "output_type": "display_data"
    }
   ],
   "source": [
    "vendor_by_number_products = df[['vendor_id', 'product_id']].groupby('vendor_id').count()\n",
    "number_product_values = vendor_by_number_products['product_id'].value_counts().to_dict()\n",
    "x, dist = [0]*(max(number_product_values)+1), [0]*(max(number_product_values)+1)\n",
    "for i in range(1, max(number_product_values)+1):\n",
    "    x[i] = i\n",
    "    if i in number_product_values:\n",
    "        dist[i] = number_product_values[i]\n",
    "x = np.array(x)\n",
    "dist = np.array(dist)\n",
    "cdf = np.cumsum(dist)/sum(dist)\n",
    "plt.plot(x, cdf)\n",
    "plt.xlabel('Number of products')\n",
    "plt.ylabel('CDF of Vendors with that Number of Products')"
   ]
  },
  {
   "cell_type": "markdown",
   "metadata": {},
   "source": [
    "It's not as quite as sharp as the vendor-by-total-order-count CDF, but still a power law of sorts"
   ]
  },
  {
   "cell_type": "code",
   "execution_count": 52,
   "metadata": {},
   "outputs": [
    {
     "data": {
      "text/plain": [
       "10"
      ]
     },
     "execution_count": 52,
     "metadata": {},
     "output_type": "execute_result"
    }
   ],
   "source": [
    "x[np.argmin(abs(cdf - .25))]"
   ]
  },
  {
   "cell_type": "markdown",
   "metadata": {},
   "source": [
    "So, 25% of the vendors have less than or equal to 10 products only."
   ]
  },
  {
   "cell_type": "markdown",
   "metadata": {},
   "source": [
    "### Distribution over Geohashes"
   ]
  },
  {
   "cell_type": "markdown",
   "metadata": {},
   "source": [
    "As we saw above in \"Preliminary Statistics\", there are 2068 unique geohashes. I wonder what the map of this looks like?"
   ]
  },
  {
   "cell_type": "code",
   "execution_count": 53,
   "metadata": {},
   "outputs": [
    {
     "data": {
      "text/plain": [
       "w21z7kz       1\n",
       "w21z3w3       1\n",
       "w21zt7t       1\n",
       "w21z647       1\n",
       "w21z7nr       1\n",
       "           ... \n",
       "w23b4u5    2084\n",
       "w23bh25    2234\n",
       "w23b1tq    2281\n",
       "w21z8dz    2302\n",
       "w21zetv    2921\n",
       "Name: vendor_geohash, Length: 2068, dtype: int64"
      ]
     },
     "execution_count": 53,
     "metadata": {},
     "output_type": "execute_result"
    }
   ],
   "source": [
    "df['vendor_geohash'].value_counts().sort_values()"
   ]
  },
  {
   "cell_type": "code",
   "execution_count": 54,
   "metadata": {},
   "outputs": [
    {
     "data": {
      "text/plain": [
       "Text(0, 0.5, 'number of vendors')"
      ]
     },
     "execution_count": 54,
     "metadata": {},
     "output_type": "execute_result"
    },
    {
     "data": {
      "image/png": "[encoded data removed]",
      "text/plain": [
       "<Figure size 432x288 with 1 Axes>"
      ]
     },
     "metadata": {
      "needs_background": "light"
     },
     "output_type": "display_data"
    }
   ],
   "source": [
    "plt.plot(df['vendor_geohash'].value_counts().sort_values().values)\n",
    "plt.xlabel('geohash id ordered by number of vendors')\n",
    "plt.ylabel('number of vendors')"
   ]
  },
  {
   "cell_type": "markdown",
   "metadata": {},
   "source": [
    "So it's interesting that this isn't more uniform. I'd expect, as with geohash, that the boxes are all of 'equal-data sizes'...perhaps not. I'd like to make a real geo-map of this, but I want to focus on using `product_name` and `product_description` features first. I'll circle back to this if there's time."
   ]
  },
  {
   "cell_type": "markdown",
   "metadata": {},
   "source": [
    "## Concluding Thoughts/Salient Observations\n",
    "- There are 300774 unique `product_id`s in the data, as many as there are data points (i.e. it's a key), but there are only 105780 unique `product_name`s. A decision will have to be made about how to treat products.\n",
    "- Unsurprisingly, all these CDFs I've plotted are power-law-like. The CDF of product_id order counts is particularly sharp.\n",
    "- The CDF's don't have any multi-modal behavior that I was able to observe. I thought that there might be something interesting around identifying 'type' of product (e.g. appetizer, main dish, drink) by the order patterns (like drinks have more orders that main dishes), but nothing immediately jumps out. Though there still might be something hiding in the data. This would have been useful for making multiple recommendations to vendors, e.g. \"this is the best main dish you should add; this is the best drink that you should add\".\n",
    "\n",
    "## My Standing Questions\n",
    "- What is the meaning of the vendor geohash? How is it derived/what is the hashing function? It'd be useful to know in order to make targeted recommendations (e.g. if 'Double-Cheesburger' is the best selling product at barbecue places in the US, I'd like to suggest it to barbecue places in the US that aren't selling it, but I'm less likely to suggest it to barbecue places in Korea)\n",
    "- \"Design a solution that will help the vendors add new items to their menus\"... does this mean \"prototype a running system for doing this on a monthly basis\", \"explore different models/methods for recommending new products to vendors\", or what?\n",
    "- What's the objective function? How can I tell from this data that a vendor is successful? Ought I assume that, for the scope of this data, all products have the same revenue margin, and so the goal of each vendor is to sell as much product as possible?\n"
   ]
  },
  {
   "cell_type": "markdown",
   "metadata": {},
   "source": [
    "# Making Recommendations  (110 minutes)"
   ]
  },
  {
   "cell_type": "markdown",
   "metadata": {},
   "source": [
    "Mariia has answered my standing questions--thanks Mariia! So, it's time to move forward with making recommendations. But first, I need to make some assumptions so that this problem is sufficiently constrained:"
   ]
  },
  {
   "cell_type": "markdown",
   "metadata": {},
   "source": [
    "## Assumptions\n",
    "1. I assume that every product is unique. This is a reasonable assumption to make, because, even if two products have the same product name and product description, they could be completely different in real life. E.g. a 'hamburger' with the description 'no toppings' could be a completely different thing at two different vendors--one vendor could make their burgers on a cheap roll with a patty from a factory, and one could be made on a nice bun with home-made patties. Moreover, it's possible that one `vendor_a`'s 'burger' is more similar to `vendor_b`'s 'hamburger' than it is to `vendor_c`'s burger. Finally, for the envisioned use case of recommending products to vendors, I'd rather not inflect any of my bias onto saying what products are the same. I'd rather let vendors decide that for themselves.\n",
    "2. I assume that all recommendations apply equally well to all vendors. This is obviously flawed, and it is this assumption that I will try to relax as I improve the recommendations."
   ]
  },
  {
   "cell_type": "markdown",
   "metadata": {},
   "source": [
    "With the assumptions explicitly set, the problem statement becomes: **\"For each vendor, make a personalized recommendation of dishes that are likely to bring in more product orders\"**. Model improvements will work towards the goal of improving the personalization of recommendations, which is tantamount to relaxing assumption (2)."
   ]
  },
  {
   "cell_type": "markdown",
   "metadata": {},
   "source": [
    "## Approach 1: Top N products\n",
    "Here, we simply report the 50 products that had the most orders in the past 30 days:"
   ]
  },
  {
   "cell_type": "code",
   "execution_count": 55,
   "metadata": {},
   "outputs": [
    {
     "data": {
      "text/html": [
       "<div>\n",
       "<style scoped>\n",
       "    .dataframe tbody tr th:only-of-type {\n",
       "        vertical-align: middle;\n",
       "    }\n",
       "\n",
       "    .dataframe tbody tr th {\n",
       "        vertical-align: top;\n",
       "    }\n",
       "\n",
       "    .dataframe thead th {\n",
       "        text-align: right;\n",
       "    }\n",
       "</style>\n",
       "<table border=\"1\" class=\"dataframe\">\n",
       "  <thead>\n",
       "    <tr style=\"text-align: right;\">\n",
       "      <th></th>\n",
       "      <th>product_id</th>\n",
       "      <th>vendor_id</th>\n",
       "      <th>vendor_geohash</th>\n",
       "      <th>product_name</th>\n",
       "      <th>product_description</th>\n",
       "      <th>order_count</th>\n",
       "    </tr>\n",
       "  </thead>\n",
       "  <tbody>\n",
       "    <tr>\n",
       "      <th>3447</th>\n",
       "      <td>3447</td>\n",
       "      <td>37</td>\n",
       "      <td>w23b4n3</td>\n",
       "      <td>Dry</td>\n",
       "      <td></td>\n",
       "      <td>2017</td>\n",
       "    </tr>\n",
       "    <tr>\n",
       "      <th>12157</th>\n",
       "      <td>12157</td>\n",
       "      <td>638</td>\n",
       "      <td>w21zg1k</td>\n",
       "      <td>Dry</td>\n",
       "      <td></td>\n",
       "      <td>1479</td>\n",
       "    </tr>\n",
       "    <tr>\n",
       "      <th>25972</th>\n",
       "      <td>25972</td>\n",
       "      <td>155</td>\n",
       "      <td>w21zs0h</td>\n",
       "      <td>2pc Chickenjoy with Regular Sides A La Carte</td>\n",
       "      <td></td>\n",
       "      <td>1027</td>\n",
       "    </tr>\n",
       "    <tr>\n",
       "      <th>17979</th>\n",
       "      <td>17979</td>\n",
       "      <td>37</td>\n",
       "      <td>w23b4n3</td>\n",
       "      <td>Rice</td>\n",
       "      <td></td>\n",
       "      <td>1018</td>\n",
       "    </tr>\n",
       "    <tr>\n",
       "      <th>22807</th>\n",
       "      <td>22807</td>\n",
       "      <td>2098</td>\n",
       "      <td>w21zv3v</td>\n",
       "      <td>Dry</td>\n",
       "      <td></td>\n",
       "      <td>992</td>\n",
       "    </tr>\n",
       "    <tr>\n",
       "      <th>18988</th>\n",
       "      <td>18988</td>\n",
       "      <td>778</td>\n",
       "      <td>w21zu51</td>\n",
       "      <td>Spring Chicken Meal</td>\n",
       "      <td>Whole young and tender spring chicken served w...</td>\n",
       "      <td>969</td>\n",
       "    </tr>\n",
       "    <tr>\n",
       "      <th>10278</th>\n",
       "      <td>10278</td>\n",
       "      <td>37</td>\n",
       "      <td>w23b4n3</td>\n",
       "      <td>Instant Noodles</td>\n",
       "      <td></td>\n",
       "      <td>963</td>\n",
       "    </tr>\n",
       "    <tr>\n",
       "      <th>1772</th>\n",
       "      <td>1772</td>\n",
       "      <td>476</td>\n",
       "      <td>w21zc5k</td>\n",
       "      <td>Ayam Penyet Town</td>\n",
       "      <td>Smashed fried chicken</td>\n",
       "      <td>939</td>\n",
       "    </tr>\n",
       "    <tr>\n",
       "      <th>18348</th>\n",
       "      <td>18348</td>\n",
       "      <td>280</td>\n",
       "      <td>w23b1tq</td>\n",
       "      <td>3pc Chicken Meal</td>\n",
       "      <td>3 Pcs of chicken, 1 regular mashed potato, 1 h...</td>\n",
       "      <td>919</td>\n",
       "    </tr>\n",
       "    <tr>\n",
       "      <th>11444</th>\n",
       "      <td>11444</td>\n",
       "      <td>93</td>\n",
       "      <td>w21zujq</td>\n",
       "      <td>French Fries</td>\n",
       "      <td>Large</td>\n",
       "      <td>906</td>\n",
       "    </tr>\n",
       "    <tr>\n",
       "      <th>12379</th>\n",
       "      <td>12379</td>\n",
       "      <td>796</td>\n",
       "      <td>w21zc5q</td>\n",
       "      <td>2. Koo Kee Special Noodle</td>\n",
       "      <td></td>\n",
       "      <td>834</td>\n",
       "    </tr>\n",
       "    <tr>\n",
       "      <th>8151</th>\n",
       "      <td>8151</td>\n",
       "      <td>155</td>\n",
       "      <td>w21zs0h</td>\n",
       "      <td>Value Meal 2pc Chickenjoy with Regular Sides</td>\n",
       "      <td></td>\n",
       "      <td>827</td>\n",
       "    </tr>\n",
       "    <tr>\n",
       "      <th>11528</th>\n",
       "      <td>11528</td>\n",
       "      <td>155</td>\n",
       "      <td>w21zs0h</td>\n",
       "      <td>Jolly Spaghetti A La Carte</td>\n",
       "      <td></td>\n",
       "      <td>787</td>\n",
       "    </tr>\n",
       "    <tr>\n",
       "      <th>1268</th>\n",
       "      <td>1268</td>\n",
       "      <td>107</td>\n",
       "      <td>w21z8zm</td>\n",
       "      <td>C1. Roasted Chicken Rice</td>\n",
       "      <td></td>\n",
       "      <td>787</td>\n",
       "    </tr>\n",
       "    <tr>\n",
       "      <th>19927</th>\n",
       "      <td>19927</td>\n",
       "      <td>639</td>\n",
       "      <td>w23b4rx</td>\n",
       "      <td>The Original White Bee Hoon</td>\n",
       "      <td></td>\n",
       "      <td>774</td>\n",
       "    </tr>\n",
       "    <tr>\n",
       "      <th>24889</th>\n",
       "      <td>24889</td>\n",
       "      <td>155</td>\n",
       "      <td>w21zs0h</td>\n",
       "      <td>1pc Chickenjoy with Jolly Spaghetti A La Carte</td>\n",
       "      <td></td>\n",
       "      <td>754</td>\n",
       "    </tr>\n",
       "    <tr>\n",
       "      <th>11004</th>\n",
       "      <td>11004</td>\n",
       "      <td>638</td>\n",
       "      <td>w21zg1k</td>\n",
       "      <td>Rice</td>\n",
       "      <td></td>\n",
       "      <td>739</td>\n",
       "    </tr>\n",
       "    <tr>\n",
       "      <th>26486</th>\n",
       "      <td>26486</td>\n",
       "      <td>580</td>\n",
       "      <td>w23b4u7</td>\n",
       "      <td>Spring Chicken Meal</td>\n",
       "      <td>Whole young and tender spring chicken served w...</td>\n",
       "      <td>735</td>\n",
       "    </tr>\n",
       "    <tr>\n",
       "      <th>27656</th>\n",
       "      <td>27656</td>\n",
       "      <td>638</td>\n",
       "      <td>w21zg1k</td>\n",
       "      <td>Instant Noodles</td>\n",
       "      <td></td>\n",
       "      <td>724</td>\n",
       "    </tr>\n",
       "    <tr>\n",
       "      <th>14823</th>\n",
       "      <td>14823</td>\n",
       "      <td>155</td>\n",
       "      <td>w21zs0h</td>\n",
       "      <td>VM 1pc Chickenjoy with Jolly Spaghetti</td>\n",
       "      <td></td>\n",
       "      <td>693</td>\n",
       "    </tr>\n",
       "    <tr>\n",
       "      <th>7889</th>\n",
       "      <td>7889</td>\n",
       "      <td>1297</td>\n",
       "      <td>w21zgv2</td>\n",
       "      <td>Chicken Rice Set</td>\n",
       "      <td></td>\n",
       "      <td>672</td>\n",
       "    </tr>\n",
       "    <tr>\n",
       "      <th>13419</th>\n",
       "      <td>13419</td>\n",
       "      <td>775</td>\n",
       "      <td>w21zgfp</td>\n",
       "      <td>4. Minced Meat Noodle</td>\n",
       "      <td></td>\n",
       "      <td>669</td>\n",
       "    </tr>\n",
       "    <tr>\n",
       "      <th>1358</th>\n",
       "      <td>1358</td>\n",
       "      <td>155</td>\n",
       "      <td>w21zs0h</td>\n",
       "      <td>3pc Chickenjoy with Regular Sides A La Carte</td>\n",
       "      <td></td>\n",
       "      <td>666</td>\n",
       "    </tr>\n",
       "    <tr>\n",
       "      <th>24048</th>\n",
       "      <td>24048</td>\n",
       "      <td>360</td>\n",
       "      <td>w21zkpk</td>\n",
       "      <td>Spring Chicken Meal</td>\n",
       "      <td>Whole young and tender spring chicken served w...</td>\n",
       "      <td>666</td>\n",
       "    </tr>\n",
       "    <tr>\n",
       "      <th>10142</th>\n",
       "      <td>10142</td>\n",
       "      <td>778</td>\n",
       "      <td>w21zu51</td>\n",
       "      <td>Fried Bun</td>\n",
       "      <td></td>\n",
       "      <td>658</td>\n",
       "    </tr>\n",
       "    <tr>\n",
       "      <th>18758</th>\n",
       "      <td>18758</td>\n",
       "      <td>598</td>\n",
       "      <td>w21zu6u</td>\n",
       "      <td>2pc Chicken Meal</td>\n",
       "      <td>2 Pcs of chicken, 1 regular mashed potato, 1 h...</td>\n",
       "      <td>654</td>\n",
       "    </tr>\n",
       "    <tr>\n",
       "      <th>23788</th>\n",
       "      <td>23788</td>\n",
       "      <td>155</td>\n",
       "      <td>w21zs0h</td>\n",
       "      <td>Extra Gravy</td>\n",
       "      <td></td>\n",
       "      <td>638</td>\n",
       "    </tr>\n",
       "    <tr>\n",
       "      <th>1066</th>\n",
       "      <td>1066</td>\n",
       "      <td>787</td>\n",
       "      <td>w21zt16</td>\n",
       "      <td>Spring Chicken Meal</td>\n",
       "      <td>Whole young and tender spring chicken served w...</td>\n",
       "      <td>634</td>\n",
       "    </tr>\n",
       "    <tr>\n",
       "      <th>130</th>\n",
       "      <td>130</td>\n",
       "      <td>93</td>\n",
       "      <td>w21zujq</td>\n",
       "      <td>Fish Burger</td>\n",
       "      <td>Seafood</td>\n",
       "      <td>627</td>\n",
       "    </tr>\n",
       "    <tr>\n",
       "      <th>2106</th>\n",
       "      <td>2106</td>\n",
       "      <td>711</td>\n",
       "      <td>w23b4uz</td>\n",
       "      <td>Chicken Rice Set</td>\n",
       "      <td>Choice of steamed or roasted available</td>\n",
       "      <td>618</td>\n",
       "    </tr>\n",
       "    <tr>\n",
       "      <th>6725</th>\n",
       "      <td>6725</td>\n",
       "      <td>786</td>\n",
       "      <td>w21xxgu</td>\n",
       "      <td>Nasi Lemak with Chicken Wing</td>\n",
       "      <td>This delightful Nasi Lemak set consists of fra...</td>\n",
       "      <td>616</td>\n",
       "    </tr>\n",
       "    <tr>\n",
       "      <th>15121</th>\n",
       "      <td>15121</td>\n",
       "      <td>1749</td>\n",
       "      <td>w21zv3y</td>\n",
       "      <td>Nasi Lemak with Chicken Wing</td>\n",
       "      <td>This delightful Nasi Lemak set consists of fra...</td>\n",
       "      <td>606</td>\n",
       "    </tr>\n",
       "    <tr>\n",
       "      <th>23373</th>\n",
       "      <td>23373</td>\n",
       "      <td>680</td>\n",
       "      <td>w21z8g4</td>\n",
       "      <td>The Original White Bee Hoon</td>\n",
       "      <td></td>\n",
       "      <td>599</td>\n",
       "    </tr>\n",
       "    <tr>\n",
       "      <th>3843</th>\n",
       "      <td>3843</td>\n",
       "      <td>342</td>\n",
       "      <td>w21zbu0</td>\n",
       "      <td>Nasi Lemak Royale</td>\n",
       "      <td>This delightful Nasi Lemak set consists of fra...</td>\n",
       "      <td>591</td>\n",
       "    </tr>\n",
       "    <tr>\n",
       "      <th>2090</th>\n",
       "      <td>2090</td>\n",
       "      <td>691</td>\n",
       "      <td>w21zc5n</td>\n",
       "      <td>2 pcs Chicken Meal</td>\n",
       "      <td>2 pcs Chicken, 3 pcs Nuggets, 1 Side and 1 Drink</td>\n",
       "      <td>589</td>\n",
       "    </tr>\n",
       "    <tr>\n",
       "      <th>4727</th>\n",
       "      <td>4727</td>\n",
       "      <td>155</td>\n",
       "      <td>w21zs0h</td>\n",
       "      <td>Regular Yum with Cheese</td>\n",
       "      <td></td>\n",
       "      <td>584</td>\n",
       "    </tr>\n",
       "    <tr>\n",
       "      <th>1292</th>\n",
       "      <td>1292</td>\n",
       "      <td>112</td>\n",
       "      <td>w23b4n1</td>\n",
       "      <td>2 pcs Chicken with Fries</td>\n",
       "      <td>With choice of regular drink available</td>\n",
       "      <td>575</td>\n",
       "    </tr>\n",
       "    <tr>\n",
       "      <th>5258</th>\n",
       "      <td>5258</td>\n",
       "      <td>556</td>\n",
       "      <td>w21zg1d</td>\n",
       "      <td>2 pcs Chicken Meal</td>\n",
       "      <td>2 pcs Chicken, 3 pcs Nuggets, 1 Side and 1 Drink</td>\n",
       "      <td>568</td>\n",
       "    </tr>\n",
       "    <tr>\n",
       "      <th>2394</th>\n",
       "      <td>2394</td>\n",
       "      <td>93</td>\n",
       "      <td>w21zujq</td>\n",
       "      <td>Iced Milk Tea</td>\n",
       "      <td></td>\n",
       "      <td>567</td>\n",
       "    </tr>\n",
       "    <tr>\n",
       "      <th>15530</th>\n",
       "      <td>15530</td>\n",
       "      <td>711</td>\n",
       "      <td>w23b4uz</td>\n",
       "      <td>Kampung Fried Rice</td>\n",
       "      <td></td>\n",
       "      <td>561</td>\n",
       "    </tr>\n",
       "    <tr>\n",
       "      <th>22096</th>\n",
       "      <td>22096</td>\n",
       "      <td>2708</td>\n",
       "      <td>w21zc6t</td>\n",
       "      <td>Signature Wanton Noodles</td>\n",
       "      <td></td>\n",
       "      <td>560</td>\n",
       "    </tr>\n",
       "    <tr>\n",
       "      <th>9943</th>\n",
       "      <td>9943</td>\n",
       "      <td>632</td>\n",
       "      <td>w21zetv</td>\n",
       "      <td>Ayam Penyet</td>\n",
       "      <td>Signatured smashed fried chicken. Crispy on th...</td>\n",
       "      <td>549</td>\n",
       "    </tr>\n",
       "    <tr>\n",
       "      <th>5072</th>\n",
       "      <td>5072</td>\n",
       "      <td>422</td>\n",
       "      <td>w21z6v3</td>\n",
       "      <td>2pc Chickenjoy with Regular Sides  A La Carte</td>\n",
       "      <td>Choices available</td>\n",
       "      <td>548</td>\n",
       "    </tr>\n",
       "    <tr>\n",
       "      <th>12873</th>\n",
       "      <td>12873</td>\n",
       "      <td>342</td>\n",
       "      <td>w21zbu0</td>\n",
       "      <td>Nasi Lemak with Chicken Wing</td>\n",
       "      <td>This delightful Nasi Lemak set consists of fra...</td>\n",
       "      <td>547</td>\n",
       "    </tr>\n",
       "    <tr>\n",
       "      <th>15633</th>\n",
       "      <td>15633</td>\n",
       "      <td>775</td>\n",
       "      <td>w21zgfp</td>\n",
       "      <td>3. Laksa</td>\n",
       "      <td></td>\n",
       "      <td>545</td>\n",
       "    </tr>\n",
       "    <tr>\n",
       "      <th>1075</th>\n",
       "      <td>1075</td>\n",
       "      <td>799</td>\n",
       "      <td>w23b4rw</td>\n",
       "      <td>2 pcs Chicken Meal</td>\n",
       "      <td>2 pcs Chicken, 3 pcs Nuggets, 1 Side and 1 Drink</td>\n",
       "      <td>542</td>\n",
       "    </tr>\n",
       "    <tr>\n",
       "      <th>22073</th>\n",
       "      <td>22073</td>\n",
       "      <td>1169</td>\n",
       "      <td>w21xxgu</td>\n",
       "      <td>Ayam Penyet + Nasi + Side Dish Set</td>\n",
       "      <td>Smashed fried chicken + rice + side dish set</td>\n",
       "      <td>541</td>\n",
       "    </tr>\n",
       "    <tr>\n",
       "      <th>4996</th>\n",
       "      <td>4996</td>\n",
       "      <td>360</td>\n",
       "      <td>w21zkpk</td>\n",
       "      <td>2 Pieces Chicken Meal</td>\n",
       "      <td>Perfect for 1 pax</td>\n",
       "      <td>540</td>\n",
       "    </tr>\n",
       "    <tr>\n",
       "      <th>4869</th>\n",
       "      <td>4869</td>\n",
       "      <td>261</td>\n",
       "      <td>w21xxuh</td>\n",
       "      <td>Wingettes and Drumettes Combo</td>\n",
       "      <td>6pcs Combo comes with 1 drink and 1 fries,&lt;br&gt;...</td>\n",
       "      <td>538</td>\n",
       "    </tr>\n",
       "    <tr>\n",
       "      <th>13687</th>\n",
       "      <td>13687</td>\n",
       "      <td>121</td>\n",
       "      <td>w21zumm</td>\n",
       "      <td>2 pcs Chicken with Fries</td>\n",
       "      <td>With choice of regular drink available</td>\n",
       "      <td>538</td>\n",
       "    </tr>\n",
       "  </tbody>\n",
       "</table>\n",
       "</div>"
      ],
      "text/plain": [
       "       product_id  vendor_id vendor_geohash  \\\n",
       "3447         3447         37        w23b4n3   \n",
       "12157       12157        638        w21zg1k   \n",
       "25972       25972        155        w21zs0h   \n",
       "17979       17979         37        w23b4n3   \n",
       "22807       22807       2098        w21zv3v   \n",
       "18988       18988        778        w21zu51   \n",
       "10278       10278         37        w23b4n3   \n",
       "1772         1772        476        w21zc5k   \n",
       "18348       18348        280        w23b1tq   \n",
       "11444       11444         93        w21zujq   \n",
       "12379       12379        796        w21zc5q   \n",
       "8151         8151        155        w21zs0h   \n",
       "11528       11528        155        w21zs0h   \n",
       "1268         1268        107        w21z8zm   \n",
       "19927       19927        639        w23b4rx   \n",
       "24889       24889        155        w21zs0h   \n",
       "11004       11004        638        w21zg1k   \n",
       "26486       26486        580        w23b4u7   \n",
       "27656       27656        638        w21zg1k   \n",
       "14823       14823        155        w21zs0h   \n",
       "7889         7889       1297        w21zgv2   \n",
       "13419       13419        775        w21zgfp   \n",
       "1358         1358        155        w21zs0h   \n",
       "24048       24048        360        w21zkpk   \n",
       "10142       10142        778        w21zu51   \n",
       "18758       18758        598        w21zu6u   \n",
       "23788       23788        155        w21zs0h   \n",
       "1066         1066        787        w21zt16   \n",
       "130           130         93        w21zujq   \n",
       "2106         2106        711        w23b4uz   \n",
       "6725         6725        786        w21xxgu   \n",
       "15121       15121       1749        w21zv3y   \n",
       "23373       23373        680        w21z8g4   \n",
       "3843         3843        342        w21zbu0   \n",
       "2090         2090        691        w21zc5n   \n",
       "4727         4727        155        w21zs0h   \n",
       "1292         1292        112        w23b4n1   \n",
       "5258         5258        556        w21zg1d   \n",
       "2394         2394         93        w21zujq   \n",
       "15530       15530        711        w23b4uz   \n",
       "22096       22096       2708        w21zc6t   \n",
       "9943         9943        632        w21zetv   \n",
       "5072         5072        422        w21z6v3   \n",
       "12873       12873        342        w21zbu0   \n",
       "15633       15633        775        w21zgfp   \n",
       "1075         1075        799        w23b4rw   \n",
       "22073       22073       1169        w21xxgu   \n",
       "4996         4996        360        w21zkpk   \n",
       "4869         4869        261        w21xxuh   \n",
       "13687       13687        121        w21zumm   \n",
       "\n",
       "                                         product_name  \\\n",
       "3447                                            Dry     \n",
       "12157                                           Dry     \n",
       "25972    2pc Chickenjoy with Regular Sides A La Carte   \n",
       "17979                                         Rice      \n",
       "22807                                           Dry     \n",
       "18988                             Spring Chicken Meal   \n",
       "10278                             Instant Noodles       \n",
       "1772                                 Ayam Penyet Town   \n",
       "18348                                3pc Chicken Meal   \n",
       "11444                                   French Fries    \n",
       "12379                 2. Koo Kee Special Noodle         \n",
       "8151     Value Meal 2pc Chickenjoy with Regular Sides   \n",
       "11528                      Jolly Spaghetti A La Carte   \n",
       "1268                         C1. Roasted Chicken Rice   \n",
       "19927                    The Original White Bee Hoon    \n",
       "24889  1pc Chickenjoy with Jolly Spaghetti A La Carte   \n",
       "11004                                         Rice      \n",
       "26486                             Spring Chicken Meal   \n",
       "27656                             Instant Noodles       \n",
       "14823          VM 1pc Chickenjoy with Jolly Spaghetti   \n",
       "7889                                 Chicken Rice Set   \n",
       "13419                       4. Minced Meat Noodle       \n",
       "1358     3pc Chickenjoy with Regular Sides A La Carte   \n",
       "24048                             Spring Chicken Meal   \n",
       "10142                                       Fried Bun   \n",
       "18758                                2pc Chicken Meal   \n",
       "23788                                     Extra Gravy   \n",
       "1066                              Spring Chicken Meal   \n",
       "130                                       Fish Burger   \n",
       "2106                                 Chicken Rice Set   \n",
       "6725                     Nasi Lemak with Chicken Wing   \n",
       "15121                    Nasi Lemak with Chicken Wing   \n",
       "23373                    The Original White Bee Hoon    \n",
       "3843                               Nasi Lemak Royale    \n",
       "2090                               2 pcs Chicken Meal   \n",
       "4727                          Regular Yum with Cheese   \n",
       "1292                         2 pcs Chicken with Fries   \n",
       "5258                               2 pcs Chicken Meal   \n",
       "2394                                    Iced Milk Tea   \n",
       "15530                              Kampung Fried Rice   \n",
       "22096                        Signature Wanton Noodles   \n",
       "9943                                      Ayam Penyet   \n",
       "5072    2pc Chickenjoy with Regular Sides  A La Carte   \n",
       "12873                    Nasi Lemak with Chicken Wing   \n",
       "15633                                    3. Laksa       \n",
       "1075                               2 pcs Chicken Meal   \n",
       "22073             Ayam Penyet + Nasi + Side Dish Set    \n",
       "4996                            2 Pieces Chicken Meal   \n",
       "4869                   Wingettes and Drumettes Combo    \n",
       "13687                        2 pcs Chicken with Fries   \n",
       "\n",
       "                                     product_description  order_count  \n",
       "3447                                                             2017  \n",
       "12157                                                            1479  \n",
       "25972                                                            1027  \n",
       "17979                                                            1018  \n",
       "22807                                                             992  \n",
       "18988  Whole young and tender spring chicken served w...          969  \n",
       "10278                                                             963  \n",
       "1772                               Smashed fried chicken          939  \n",
       "18348  3 Pcs of chicken, 1 regular mashed potato, 1 h...          919  \n",
       "11444                                             Large           906  \n",
       "12379                                                             834  \n",
       "8151                                                              827  \n",
       "11528                                                             787  \n",
       "1268                                                              787  \n",
       "19927                                                             774  \n",
       "24889                                                             754  \n",
       "11004                                                             739  \n",
       "26486  Whole young and tender spring chicken served w...          735  \n",
       "27656                                                             724  \n",
       "14823                                                             693  \n",
       "7889                                                              672  \n",
       "13419                                                             669  \n",
       "1358                                                              666  \n",
       "24048  Whole young and tender spring chicken served w...          666  \n",
       "10142                                                             658  \n",
       "18758  2 Pcs of chicken, 1 regular mashed potato, 1 h...          654  \n",
       "23788                                                             638  \n",
       "1066   Whole young and tender spring chicken served w...          634  \n",
       "130                                              Seafood          627  \n",
       "2106              Choice of steamed or roasted available          618  \n",
       "6725   This delightful Nasi Lemak set consists of fra...          616  \n",
       "15121  This delightful Nasi Lemak set consists of fra...          606  \n",
       "23373                                                             599  \n",
       "3843   This delightful Nasi Lemak set consists of fra...          591  \n",
       "2090    2 pcs Chicken, 3 pcs Nuggets, 1 Side and 1 Drink          589  \n",
       "4727                                                              584  \n",
       "1292              With choice of regular drink available          575  \n",
       "5258    2 pcs Chicken, 3 pcs Nuggets, 1 Side and 1 Drink          568  \n",
       "2394                                                              567  \n",
       "15530                                                             561  \n",
       "22096                                                             560  \n",
       "9943   Signatured smashed fried chicken. Crispy on th...          549  \n",
       "5072                                   Choices available          548  \n",
       "12873  This delightful Nasi Lemak set consists of fra...          547  \n",
       "15633                                                             545  \n",
       "1075    2 pcs Chicken, 3 pcs Nuggets, 1 Side and 1 Drink          542  \n",
       "22073       Smashed fried chicken + rice + side dish set          541  \n",
       "4996                                   Perfect for 1 pax          540  \n",
       "4869   6pcs Combo comes with 1 drink and 1 fries,<br>...          538  \n",
       "13687             With choice of regular drink available          538  "
      ]
     },
     "execution_count": 55,
     "metadata": {},
     "output_type": "execute_result"
    }
   ],
   "source": [
    "df.sort_values('order_count', ascending=False).head(50)"
   ]
  },
  {
   "cell_type": "markdown",
   "metadata": {},
   "source": [
    "It is perhaps useful to note that 'Dry' is 3 out of the top 5 results. I imagine that this is not a particularly useful recommendation for a vendor, because, well, what does 'Dry' mean? That said, I also do not know what 'Laksa' means, nor 'Kampung Fried Rice'. I don't want to inflect my bias on the recommendations, so I leave the product 'Dry' in the dataset and recommendation list."
   ]
  },
  {
   "cell_type": "markdown",
   "metadata": {},
   "source": [
    "## Approach 2: Personalizing Recommendations by Understanding Vendor Menus\n",
    "Chicken is mentioned in 23 of the top 50 products. So, what use does this list do for vegetarian restaurants?\n",
    "\n",
    "To better personalize recommendations, it's useful to understand the vendors by virtue of the products that they offer--in other words, by their menu. I'll do this by getting a bag-of-words for each vendor and using pretrained word-embeddings to get a 'menu-embedding' for each vendor. Each vendor's bag of words will be the list of words found in all their products' names and descriptions. Some valuable data may be lost in the process, as it's possible that pretrained embeddings don't exist for certain common words. The menu-embedding of a vendor is the average of all of its words' embeddings. I'll remove stop-words as well.\n",
    "\n",
    "One thing to be mindful of is that vendor_i's bag-of-words will likely have repeated words. There are 3 options for handling the averaging of the embeddings for those words:\n",
    "1. Strip repeated words from the bag-of-words, such that the bag-of-words is now rather a 'set-of-words'\n",
    "2. Leave repeated words as is.\n",
    "3. Do some sort of log weighting scheme so that words that are repeated a lot of times for vendor don't drown out the other words, e.g. `word_embedding = log_10(9+(count(word))) * embedding(word)`\n",
    "\n",
    "I'll start with method (2) because it's the easiest, and I can always circle back if I need to.\n",
    "\n",
    "It's also important to note here that, as observed during 'Exploring the Data', a non-negligible amount of vendors have very few products. This will potentially cause issues that I'll have to be mindful of, and I may have to circle back to.\n",
    "\n",
    "To be explicitly clear, the approach here is to **assign each vendor do a menu-cluster. For each menu-cluster, recommend to its constituent vendors the top products of that cluster**."
   ]
  },
  {
   "cell_type": "code",
   "execution_count": null,
   "metadata": {},
   "outputs": [],
   "source": [
    "# load the word vectors. I use glove vectors trained on twitter data because I think that it's more likely to contain \n",
    "# gloves for words like 'chickenjoy' than gloves trained on wikipedia data, for example.\n",
    "word_vector_size = 50\n",
    "word_vectors = api.load('glove-twitter-{wv}'.format(wv=word_vector_size)).wv"
   ]
  },
  {
   "cell_type": "code",
   "execution_count": null,
   "metadata": {},
   "outputs": [],
   "source": [
    "df['word_bag'] = df.product_name.str.lower().str.replace('[^\\w\\s]',' ').str.split() + df.product_description.str.lower().str.replace('[^\\w\\s]',' ').str.split()\n",
    "vendor_word_bags = df[['vendor_id','word_bag']].groupby('vendor_id').sum()\n",
    "vendor_word_bags.head()"
   ]
  },
  {
   "cell_type": "code",
   "execution_count": null,
   "metadata": {},
   "outputs": [],
   "source": [
    "def get_menu_embedding(word_bag):\n",
    "    count = 0\n",
    "    embedding = np.zeros((50,))\n",
    "    for word in word_bag:\n",
    "        if word in stop:\n",
    "            continue\n",
    "        try:\n",
    "            embedding += word_vectors.word_vec(word)\n",
    "            count += 1\n",
    "        except KeyError:\n",
    "            pass\n",
    "    if count==0:\n",
    "        print(\"I'm NaN: {wb}\".format(wb=word_bag))\n",
    "        return None\n",
    "    return embedding/count\n",
    "vendor_word_bags['menu_embedding'] = vendor_word_bags['word_bag'].apply(lambda x: get_menu_embedding(x))\n",
    "vendor_word_bags.head()"
   ]
  },
  {
   "cell_type": "markdown",
   "metadata": {},
   "source": [
    "Some of the vendors have nans, due to empty strings and a vendor who's only menu word was a mispelled beer brand."
   ]
  },
  {
   "cell_type": "code",
   "execution_count": null,
   "metadata": {},
   "outputs": [],
   "source": [
    "vendor_word_bags = vendor_word_bags[vendor_word_bags['menu_embedding'].isna()==False]"
   ]
  },
  {
   "cell_type": "markdown",
   "metadata": {},
   "source": [
    "Great. We have a menu embedding for each vendor and only tossed out two restaurants. Now, let's see if there any clusters. I'll do that first with a t-SNE."
   ]
  },
  {
   "cell_type": "code",
   "execution_count": null,
   "metadata": {},
   "outputs": [],
   "source": [
    "menu_embedding_matrix = np.vstack(vendor_word_bags.menu_embedding.to_list())\n",
    "menu_embedding_tsne = TSNE().fit_transform(menu_embedding_matrix)"
   ]
  },
  {
   "cell_type": "code",
   "execution_count": null,
   "metadata": {},
   "outputs": [],
   "source": [
    "plt.scatter(menu_embedding_tsne[:,0],menu_embedding_tsne[:,1], s=.5)"
   ]
  },
  {
   "cell_type": "markdown",
   "metadata": {},
   "source": [
    "There is certainly some separation in the data, so I'll go ahead with some clustering to find vendor clusters (I'm running out of time right now, as well).\n",
    "\n",
    "DBSCAN is nice because I don't have to pre-specify the number of clusters that I'm expecting. Before using DBSCAN, however, I do need to do a little bit of figuring to see what a good choice for the epsilon hyperparameter would be.\n",
    "\n",
    "To do this, I do a NearestNeighbors fit to find the distance to the minpts-1 nearest neighbors."
   ]
  },
  {
   "cell_type": "code",
   "execution_count": null,
   "metadata": {},
   "outputs": [],
   "source": [
    "neigh = NearestNeighbors(n_neighbors=4)\n",
    "nbrs = neigh.fit(menu_embedding_matrix)\n",
    "distances, indices = nbrs.kneighbors(menu_embedding_matrix)\n",
    "distances = np.mean(distances[:, 1:], axis=1)\n",
    "distances = np.sort(distances, axis=0)\n",
    "plt.plot(distances)\n",
    "plt.xlabel('vendor, sorted by nearest neighbor distance')\n",
    "plt.ylabel('mean distance to nearest neighbors')"
   ]
  },
  {
   "cell_type": "markdown",
   "metadata": {},
   "source": [
    "It looks like a good value for a DBSCAN of 5 minpts is ~1.3. I'll execute the DBSCAN and then plot the t-SNE again with some colors."
   ]
  },
  {
   "cell_type": "code",
   "execution_count": null,
   "metadata": {},
   "outputs": [],
   "source": [
    "db = DBSCAN(eps=1.3, min_samples=5)\n",
    "vendor_word_bags['cluster_id'] = db.fit_predict(menu_embedding_matrix)\n",
    "vendor_word_bags.cluster_id.value_counts()"
   ]
  },
  {
   "cell_type": "markdown",
   "metadata": {},
   "source": [
    "Well... That DBSCAN didn't give us many clusters. Almost all the data is dominated by one cluster. Regardless of how correct this is, it doesn't seem particularly useful. I'll mess with the hyperparameters a little bit."
   ]
  },
  {
   "cell_type": "code",
   "execution_count": null,
   "metadata": {},
   "outputs": [],
   "source": [
    "db = DBSCAN(eps=.8, min_samples=6)\n",
    "vendor_word_bags['cluster_id'] = db.fit_predict(menu_embedding_matrix)\n",
    "vendor_word_bags.cluster_id.value_counts().sort_values()"
   ]
  },
  {
   "cell_type": "code",
   "execution_count": null,
   "metadata": {},
   "outputs": [],
   "source": [
    "plt.scatter(menu_embedding_tsne[:,0],menu_embedding_tsne[:,1], s=.5, c=vendor_word_bags.cluster_id)"
   ]
  },
  {
   "cell_type": "markdown",
   "metadata": {},
   "source": [
    "This t-SNE scatter plot is largely drowned out by the one big cluster, and a lot of the vendors are assigned the 'noise' label of -1. Alas. I must recall here that the many of the vendors hardly had any products on their menu, and thus didn't have a well learned menu-embedding to build these clusters from. Also, Mariia mentioned that the majority of Delivery Hero's market is in Asia, and I know nothing of the cuisine there. Perhaps this is what it is like, where the vast majority of the cuisine is dominated by one type of menu, and then there are a few small cuisines in addition.\n",
    "\n",
    "For sake of completion, I'll generate a recommendation list for each cluster. **For vendors who are assigned a cluster of -1, this 'model' just recommends using the Approach 1 'menu-agnostic' recommendations**"
   ]
  },
  {
   "cell_type": "code",
   "execution_count": null,
   "metadata": {},
   "outputs": [],
   "source": [
    "vendor_word_bags_4_merge = vendor_word_bags.reset_index()\n",
    "vendor_word_bags_4_merge.head()\n",
    "df_w_cluster = df.merge(vendor_word_bags_4_merge[['vendor_id', 'cluster_id']], how='left', on='vendor_id')\n",
    "df_w_cluster.head()"
   ]
  },
  {
   "cell_type": "markdown",
   "metadata": {},
   "source": [
    "Now that we have cluster_id merged in with the product dataframe, all we have to do is groupby cluster_id and get the top products for each cluster."
   ]
  },
  {
   "cell_type": "code",
   "execution_count": null,
   "metadata": {},
   "outputs": [],
   "source": [
    "df_for_rec = df_w_cluster[['product_id', 'vendor_id', 'vendor_geohash', 'product_name', 'product_description', 'cluster_id', 'order_count']]\n",
    "for cluster_label in range(max(db.labels_)+1):\n",
    "    print(cluster_label)\n",
    "    display(df_for_rec[df_for_rec.cluster_id==cluster_label].sort_values('order_count', ascending=False).head(10))"
   ]
  },
  {
   "cell_type": "markdown",
   "metadata": {},
   "source": [
    "Some observations from this:\n",
    "- The recommendations of Cluster 0 looks to be very similar to those of Approach 1, which makes sense since it contains the majority of the vendors\n",
    "- Cluster 1 seems reasonable\n",
    "- Cluster 2 contains a bunch of the same `product_name` from different `vendor_ids`. Perhaps my assumption 1 was not a good one to make. Or, maybe this cluster just discoverd some vendors that are part of the same franchise.\n",
    "- Cluster 3 has a similar behavior to Cluster 2\n",
    "- Cluster 4 has a similar behavior to Clusters 2 and 3\n",
    "- There is some genuine vendor separation in the data. Cluster 6 recommends a lot of 'puff' and 'custard' desserts Cluster 9 recommends a lot of desserts, and they're notably different from those in Cluster 6 (though the order counts are very low); Cluster 8 deals exclusively with nutritional/fitness supplements.\n",
    "- Cluster 10 indicates to me that I should go back and do the log-weighting scheme when building the menu embedding. Or, maybe what's going on is that when these vendors decide to sell 'Tiger Chilled Beer', there's an automated message that they can put on their menu"
   ]
  },
  {
   "cell_type": "markdown",
   "metadata": {},
   "source": [
    "## Conclusions, Next Steps\n",
    "Well, this analysis leaves me with more questions than I started with. Next steps that I would take are:\n",
    "1. Improve the preprocessing:\n",
    "    - Some log-weighting scheme during learning of menu embeddings would likely be helpful, as seen by the repeated recommendations\n",
    "    - Do some more rigorous analysis to figure out the best corpus to use for glove vectors.\n",
    "    - I did a bunch of data exploration at the beginning to see which vendors had a very small total `order_count` or total number of `product_id`s. It could be useful to threshold some of them out, and only make targeted recommendations for vendors for which it is possible to reasonably assess their type.\n",
    "2. It'd be nice to, instead of finding clusters for each vendor, do some sort of 'fuzzy recommendation', where I find the N closest vendors to `vendor_i`, and then recommend the top 50 products from those N neighbors to `vendor_i`. In fact, that'd be far more robust than what I've done (i.e. I tinkered with the DBSCAN hyperparameters quite a bit). It's also likely more useful. Though, making and having the clusters on-hand was certainly a useful first approach for introspecting on the model and the menu-embeddings.\n",
    "3. I didn't really get the chance to dive into the `vendor_geohash` attribute much. I prioritized the `product_name` and `product_description` features because I intuitively thought it'd be more useful for clustering vendors. I think that `vendor_geohash` would be useful, and it'd fit in very nicely with the 'N nearest vendors' approach proposed in (2).\n",
    "4. It'd be nice to categorize products as 'drink', 'appetizer', 'meal', etc. Or have any sort of labelling, and use that to provide categorized recommendation lists to each vendor.\n",
    "5. The approach taken throughout this analysis has been to recommend the top N products to `vendor_i`. But, what if `vendor_i` already is the top seller of evreybody else? What should I recommend to `vendor_i`? In that case, it'd be neat to offer a sort of 'exploit' vs 'explore' option for a vendor, where, if the vendor is already highly performant, then you suggest diverse options that are somehow outliers or are 'rising products'. This problem, too, would certainly helped by the 'N nearest vendors' approach suggested in (2)."
   ]
  },
  {
   "cell_type": "markdown",
   "metadata": {},
   "source": [
    "Thanks for your time in reading this!"
   ]
  }
 ],
 "metadata": {
  "kernelspec": {
   "display_name": "Python 3",
   "language": "python",
   "name": "python3"
  },
  "language_info": {
   "codemirror_mode": {
    "name": "ipython",
    "version": 3
   },
   "file_extension": ".py",
   "mimetype": "text/x-python",
   "name": "python",
   "nbconvert_exporter": "python",
   "pygments_lexer": "ipython3",
   "version": "3.8.2"
  }
 },
 "nbformat": 4,
 "nbformat_minor": 4
}
